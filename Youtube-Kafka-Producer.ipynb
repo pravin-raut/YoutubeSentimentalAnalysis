{
 "cells": [
  {
   "cell_type": "code",
   "execution_count": 0,
   "metadata": {
    "application/vnd.databricks.v1+cell": {
     "cellMetadata": {
      "byteLimit": 2048000,
      "rowLimit": 10000
     },
     "inputWidgets": {},
     "nuid": "30fd0d3a-63b7-453a-bcb1-7fc7e5ee46ec",
     "showTitle": false,
     "title": ""
    }
   },
   "outputs": [],
   "source": [
    "!pip install /Workspace/Repos/raut1606@gmail.com/YoutubeSentimentalAnalysis/KafkaYoutube/dist/KafkaYoutube-0.1-py3-none-any.whl"
   ]
  },
  {
   "cell_type": "code",
   "execution_count": 0,
   "metadata": {
    "application/vnd.databricks.v1+cell": {
     "cellMetadata": {
      "byteLimit": 2048000,
      "rowLimit": 10000
     },
     "inputWidgets": {},
     "nuid": "9294282d-6310-436c-9833-4b58902083be",
     "showTitle": false,
     "title": ""
    },
    "id": "kNXTI7y4l98E"
   },
   "outputs": [],
   "source": [
    "import json\n",
    "import pandas as pd\n",
    "\n",
    "import os\n",
    "import google.auth\n",
    "from google.oauth2.credentials import Credentials\n",
    "from googleapiclient.discovery import build"
   ]
  },
  {
   "cell_type": "code",
   "execution_count": 0,
   "metadata": {
    "application/vnd.databricks.v1+cell": {
     "cellMetadata": {
      "byteLimit": 2048000,
      "rowLimit": 10000
     },
     "inputWidgets": {},
     "nuid": "290ed144-5ac0-4f1f-a0ed-17be8015b966",
     "showTitle": false,
     "title": ""
    },
    "colab": {
     "base_uri": "https://localhost:8080/"
    },
    "id": "Kok3V2x7pT4c",
    "outputId": "a7746bab-c27e-4b32-ebb4-53ff848b5691"
   },
   "outputs": [],
   "source": [
    "from KafkaClass.Kafka_Connect import KafkaConnect "
   ]
  },
  {
   "cell_type": "code",
   "execution_count": 0,
   "metadata": {
    "application/vnd.databricks.v1+cell": {
     "cellMetadata": {
      "byteLimit": 2048000,
      "rowLimit": 10000
     },
     "inputWidgets": {},
     "nuid": "8705ea04-7f57-4261-8ab4-17bf532d91db",
     "showTitle": false,
     "title": ""
    },
    "id": "lkbzrzoJqiWk"
   },
   "outputs": [],
   "source": [
    "# Set the configuration properties\n",
    "topic_name = \"SentimentalAnalysis\"\n",
    "bootstrap_servers_list = [\"34.125.151.28:9092\",\"34.125.151.28:9093\",\"34.125.151.28:9094\"]"
   ]
  },
  {
   "cell_type": "code",
   "execution_count": 0,
   "metadata": {
    "application/vnd.databricks.v1+cell": {
     "cellMetadata": {
      "byteLimit": 2048000,
      "rowLimit": 10000
     },
     "inputWidgets": {},
     "nuid": "6ecd4fb2-2237-49c7-9a04-8ed9ab236c9d",
     "showTitle": false,
     "title": ""
    },
    "id": "oC02Gk3g3zsq"
   },
   "outputs": [],
   "source": [
    "kc=KafkaConnect(bootstrap_servers_list,topic_name)"
   ]
  },
  {
   "cell_type": "code",
   "execution_count": 0,
   "metadata": {
    "application/vnd.databricks.v1+cell": {
     "cellMetadata": {
      "byteLimit": 2048000,
      "rowLimit": 10000
     },
     "inputWidgets": {},
     "nuid": "6b2231cd-cef2-4874-8d24-dd6c0b908518",
     "showTitle": false,
     "title": ""
    },
    "colab": {
     "base_uri": "https://localhost:8080/"
    },
    "id": "DChEQy8fsJQH",
    "outputId": "36c39288-b280-4085-f7f3-aa04d4c750bc"
   },
   "outputs": [],
   "source": [
    "kc.get_topic_list()"
   ]
  },
  {
   "cell_type": "code",
   "execution_count": 0,
   "metadata": {
    "application/vnd.databricks.v1+cell": {
     "cellMetadata": {
      "byteLimit": 2048000,
      "rowLimit": 10000
     },
     "inputWidgets": {},
     "nuid": "17032558-e02d-4bf2-bd28-f4d57166a0cc",
     "showTitle": false,
     "title": ""
    },
    "colab": {
     "base_uri": "https://localhost:8080/"
    },
    "id": "qUcff8jGsAM4",
    "outputId": "e69e0276-0e9f-43da-fa4e-e6651f03eaea"
   },
   "outputs": [],
   "source": [
    "kc.create_topic(2,2)"
   ]
  },
  {
   "cell_type": "code",
   "execution_count": 0,
   "metadata": {
    "application/vnd.databricks.v1+cell": {
     "cellMetadata": {},
     "inputWidgets": {},
     "nuid": "b5a69964-d535-4993-93a7-636f651a2846",
     "showTitle": false,
     "title": ""
    }
   },
   "outputs": [],
   "source": [
    "kc.get_topic_list()"
   ]
  },
  {
   "cell_type": "code",
   "execution_count": 0,
   "metadata": {
    "application/vnd.databricks.v1+cell": {
     "cellMetadata": {
      "byteLimit": 2048000,
      "rowLimit": 10000
     },
     "inputWidgets": {},
     "nuid": "ff2b7d0a-f7dc-47b9-ae27-a6b32904087c",
     "showTitle": false,
     "title": ""
    },
    "colab": {
     "base_uri": "https://localhost:8080/"
    },
    "id": "S_Qj8l4vAH7j",
    "outputId": "9c80310f-0536-4f35-ad47-edaa0e028a90"
   },
   "outputs": [],
   "source": [
    "#kc.deleteTopic('SentimentalAnalysis')"
   ]
  },
  {
   "cell_type": "code",
   "execution_count": 0,
   "metadata": {
    "application/vnd.databricks.v1+cell": {
     "cellMetadata": {
      "byteLimit": 2048000,
      "rowLimit": 10000
     },
     "inputWidgets": {},
     "nuid": "ba6c5860-286c-4ead-87a4-340bdcc419a2",
     "showTitle": false,
     "title": ""
    },
    "id": "PH_9iCIXmF8x"
   },
   "outputs": [],
   "source": [
    " api_key=dbutils.secrets.get(scope=\"mysecrets\", key=\"YoutubeAPINew\")\n"
   ]
  },
  {
   "cell_type": "code",
   "execution_count": 0,
   "metadata": {
    "application/vnd.databricks.v1+cell": {
     "cellMetadata": {
      "byteLimit": 2048000,
      "rowLimit": 10000
     },
     "inputWidgets": {},
     "nuid": "8a9cda75-5af9-4aa8-ad4c-7d19956cce07",
     "showTitle": false,
     "title": ""
    },
    "id": "V_xkIIxyl3su"
   },
   "outputs": [],
   "source": [
    "import os\n",
    "from dateutil import parser\n",
    "from datetime import datetime\n",
    "\n",
    "def GetNewCommentsFromYoutube(video_id, comments_dict, last_comment_time_path=None):\n",
    "    # Read last comment timestamp from file\n",
    "    last_comment_time = None\n",
    "    if last_comment_time_path is not None and os.path.isfile(last_comment_time_path):\n",
    "        with open(last_comment_time_path, 'r') as f:\n",
    "            last_comment_time = parser.parse(f.read().strip())\n",
    "\n",
    "    # Set up YouTube API client\n",
    "    youtube = build(\"youtube\", \"v3\", developerKey=api_key)\n",
    "\n",
    "    # Retrieve comments for the video\n",
    "    next_page_token = None\n",
    "    while True:\n",
    "        response = youtube.commentThreads().list(\n",
    "            part=\"snippet,replies\",\n",
    "            videoId=video_id,\n",
    "            textFormat=\"plainText\",\n",
    "            pageToken=next_page_token\n",
    "        ).execute()\n",
    "\n",
    "        for item in response[\"items\"]:\n",
    "            comment_time = parser.parse(item[\"snippet\"][\"topLevelComment\"][\"snippet\"][\"publishedAt\"])\n",
    "            if last_comment_time is not None and comment_time <= last_comment_time:\n",
    "                # Stop processing comments if we reach the last processed comment\n",
    "                break\n",
    "            else:\n",
    "                comment_id = item[\"snippet\"][\"topLevelComment\"][\"id\"]\n",
    "                comment = item[\"snippet\"][\"topLevelComment\"][\"snippet\"][\"textDisplay\"]\n",
    "                comment_likes = item[\"snippet\"][\"topLevelComment\"][\"snippet\"][\"likeCount\"]\n",
    "                comments_dict[comment_id] = {'comment': comment, 'comment_likes': comment_likes}\n",
    "\n",
    "                if \"replies\" in item:\n",
    "                    for reply_item in item[\"replies\"][\"comments\"]:\n",
    "                        reply_time = parser.parse(reply_item[\"snippet\"][\"publishedAt\"])\n",
    "                        if last_comment_time is not None and reply_time <= last_comment_time:\n",
    "                            # Stop processing comments if we reach the last processed comment\n",
    "                            break\n",
    "                        else:\n",
    "                            reply_id = reply_item[\"id\"]\n",
    "                            reply = reply_item[\"snippet\"][\"textDisplay\"]\n",
    "                            reply_likes = reply_item[\"snippet\"][\"likeCount\"]\n",
    "                            comments_dict[reply_id] = {'reply': reply, 'reply_likes': reply_likes}\n",
    "\n",
    "        if \"nextPageToken\" in response:\n",
    "            next_page_token = response[\"nextPageToken\"]\n",
    "        else:\n",
    "            break\n",
    "\n",
    "    # Write last comment timestamp to file\n",
    "    if last_comment_time_path is not None:\n",
    "        last_comment_time = parser.parse(response[\"items\"][0][\"snippet\"][\"topLevelComment\"][\"snippet\"][\"publishedAt\"])\n",
    "        with open(last_comment_time_path, 'w') as f:\n",
    "            f.write(last_comment_time.isoformat())\n",
    "\n",
    "    return comments_dict\n"
   ]
  },
  {
   "cell_type": "code",
   "execution_count": 0,
   "metadata": {
    "application/vnd.databricks.v1+cell": {
     "cellMetadata": {
      "byteLimit": 2048000,
      "rowLimit": 10000
     },
     "inputWidgets": {},
     "nuid": "bd0bcd77-e096-4682-b26e-7038dea8d4e7",
     "showTitle": false,
     "title": ""
    },
    "id": "qSY3xW9pmkvV"
   },
   "outputs": [],
   "source": [
    "import time\n",
    "comments_dict = {}\n",
    "video_id = \"I1jUQK-yEBo\"\n",
    "last_comment_time_path = \"/Workspace/Repos/raut1606@gmail.com/YoutubeSentimentalAnalysis/KafkaYoutube/last_comment_id.txt\"\n",
    "\n"
   ]
  },
  {
   "cell_type": "code",
   "execution_count": 0,
   "metadata": {
    "application/vnd.databricks.v1+cell": {
     "cellMetadata": {
      "byteLimit": 2048000,
      "rowLimit": 10000
     },
     "inputWidgets": {},
     "nuid": "af60d520-547d-4c8a-b49d-6cbda192d873",
     "showTitle": false,
     "title": ""
    },
    "colab": {
     "base_uri": "https://localhost:8080/",
     "height": 301
    },
    "id": "sVx9a4Q-HGq1",
    "outputId": "c3e669f9-2baf-470b-b18b-45cd1e62212b"
   },
   "outputs": [],
   "source": [
    "while True:\n",
    "  time.sleep(2)\n",
    "  comments_dict = {}\n",
    "  GetNewCommentsFromYoutube(video_id, comments_dict, last_comment_time_path)\n",
    "  for key,message in comments_dict.items():\n",
    "      message_str = json.dumps(message)\n",
    "      kc.produceMessage(key.encode(),message_str.encode())"
   ]
  },
  {
   "cell_type": "code",
   "execution_count": 0,
   "metadata": {
    "application/vnd.databricks.v1+cell": {
     "cellMetadata": {
      "byteLimit": 2048000,
      "rowLimit": 10000
     },
     "inputWidgets": {},
     "nuid": "624c2de4-5d52-4d12-9b1e-7375454f8fbf",
     "showTitle": false,
     "title": ""
    },
    "id": "Y8Zye1jsHGg4"
   },
   "outputs": [],
   "source": []
  }
 ],
 "metadata": {
  "application/vnd.databricks.v1+notebook": {
   "dashboards": [],
   "language": "python",
   "notebookMetadata": {
    "pythonIndentUnit": 4
   },
   "notebookName": "Youtube-Kafka-Producer",
   "widgets": {}
  },
  "colab": {
   "provenance": []
  },
  "kernelspec": {
   "display_name": "Python 3",
   "name": "python3"
  },
  "language_info": {
   "name": "python"
  }
 },
 "nbformat": 4,
 "nbformat_minor": 0
}
